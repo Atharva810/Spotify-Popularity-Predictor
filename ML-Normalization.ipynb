{
 "cells": [
  {
   "cell_type": "code",
   "execution_count": 127,
   "metadata": {},
   "outputs": [],
   "source": [
    "import numpy as np \n",
    "import os\n",
    "import pandas as pd\n",
    "from sklearn.linear_model import LogisticRegression\n",
    "from sklearn.ensemble import RandomForestClassifier\n",
    "from sklearn.neighbors import KNeighborsClassifier\n",
    "from sklearn.tree import DecisionTreeClassifier\n",
    "from sklearn.svm import SVC, LinearSVC\n",
    "from sklearn.model_selection import KFold\n",
    "from collections import defaultdict\n",
    "from xgboost import XGBClassifier\n",
    "from sklearn.model_selection import GridSearchCV\n",
    "from sklearn.metrics import classification_report, confusion_matrix\n",
    "from pprint import pprint\n",
    "from sklearn.model_selection import RandomizedSearchCV\n",
    "import statistics\n",
    "from sklearn.metrics import make_scorer, accuracy_score, roc_auc_score \n",
    "from sklearn.model_selection import GridSearchCV\n",
    "from sklearn.model_selection import train_test_split\n",
    "from collections import Counter"
   ]
  },
  {
   "cell_type": "code",
   "execution_count": 128,
   "metadata": {},
   "outputs": [],
   "source": [
    "filenames = os.listdir('./searched_songs/')\n",
    "filepath = \"./searched_songs/\""
   ]
  },
  {
   "cell_type": "code",
   "execution_count": 129,
   "metadata": {},
   "outputs": [],
   "source": [
    "features = [\"acousticness\", \"danceability\", \"energy\", \"instrumentalness\", \"key\", \"liveness\",\n",
    "                \"mode\", \"loudness\", \"speechiness\", \"tempo\", \"valence\",\"length\",\"time_signature\"]"
   ]
  },
  {
   "cell_type": "code",
   "execution_count": 130,
   "metadata": {},
   "outputs": [],
   "source": [
    "threshold=0"
   ]
  },
  {
   "cell_type": "code",
   "execution_count": 131,
   "metadata": {},
   "outputs": [],
   "source": [
    "sum_rfaccuracy=0\n",
    "count=0\n",
    "lowest_accuracy = 100\n",
    "whole_dataset = pd.read_csv(filepath+\"us.csv\", encoding='utf-8',)"
   ]
  },
  {
   "cell_type": "code",
   "execution_count": 132,
   "metadata": {},
   "outputs": [
    {
     "data": {
      "text/html": [
       "<div>\n",
       "<style scoped>\n",
       "    .dataframe tbody tr th:only-of-type {\n",
       "        vertical-align: middle;\n",
       "    }\n",
       "\n",
       "    .dataframe tbody tr th {\n",
       "        vertical-align: top;\n",
       "    }\n",
       "\n",
       "    .dataframe thead th {\n",
       "        text-align: right;\n",
       "    }\n",
       "</style>\n",
       "<table border=\"1\" class=\"dataframe\">\n",
       "  <thead>\n",
       "    <tr style=\"text-align: right;\">\n",
       "      <th></th>\n",
       "      <th>Unnamed: 0</th>\n",
       "      <th>name</th>\n",
       "      <th>album_name</th>\n",
       "      <th>artist_name</th>\n",
       "      <th>artist_id</th>\n",
       "      <th>album_release_date</th>\n",
       "      <th>album_type</th>\n",
       "      <th>available_markets</th>\n",
       "      <th>length</th>\n",
       "      <th>popularity</th>\n",
       "      <th>...</th>\n",
       "      <th>acousticness</th>\n",
       "      <th>danceability</th>\n",
       "      <th>energy</th>\n",
       "      <th>instrumentalness</th>\n",
       "      <th>liveness</th>\n",
       "      <th>loudness</th>\n",
       "      <th>speechiness</th>\n",
       "      <th>valence</th>\n",
       "      <th>tempo</th>\n",
       "      <th>time_signature</th>\n",
       "    </tr>\n",
       "  </thead>\n",
       "  <tbody>\n",
       "    <tr>\n",
       "      <th>0</th>\n",
       "      <td>0</td>\n",
       "      <td>Guarda</td>\n",
       "      <td>Zéphyrine</td>\n",
       "      <td>Elliot Ziegler</td>\n",
       "      <td>0Wh30jSV0ZQf0IzHkEddBY</td>\n",
       "      <td>2019-05-25</td>\n",
       "      <td>single</td>\n",
       "      <td>['AD', 'AE', 'AL', 'AR', 'AT', 'AU', 'BA', 'BE...</td>\n",
       "      <td>98750</td>\n",
       "      <td>59</td>\n",
       "      <td>...</td>\n",
       "      <td>0.99400</td>\n",
       "      <td>0.334</td>\n",
       "      <td>0.0471</td>\n",
       "      <td>0.96600</td>\n",
       "      <td>0.1070</td>\n",
       "      <td>-23.170</td>\n",
       "      <td>0.0496</td>\n",
       "      <td>0.313</td>\n",
       "      <td>136.455</td>\n",
       "      <td>4</td>\n",
       "    </tr>\n",
       "    <tr>\n",
       "      <th>1</th>\n",
       "      <td>1</td>\n",
       "      <td>Habit</td>\n",
       "      <td>Xxotic</td>\n",
       "      <td>Why Cue</td>\n",
       "      <td>5PLUeP0AXBzIb4yrN7rQh6</td>\n",
       "      <td>2019-01-11</td>\n",
       "      <td>album</td>\n",
       "      <td>['AD', 'AE', 'AL', 'AR', 'AT', 'AU', 'BA', 'BE...</td>\n",
       "      <td>161045</td>\n",
       "      <td>45</td>\n",
       "      <td>...</td>\n",
       "      <td>0.06680</td>\n",
       "      <td>0.803</td>\n",
       "      <td>0.8190</td>\n",
       "      <td>0.00177</td>\n",
       "      <td>0.0889</td>\n",
       "      <td>-7.094</td>\n",
       "      <td>0.0504</td>\n",
       "      <td>0.344</td>\n",
       "      <td>125.012</td>\n",
       "      <td>4</td>\n",
       "    </tr>\n",
       "    <tr>\n",
       "      <th>2</th>\n",
       "      <td>2</td>\n",
       "      <td>BLOODY STREAM</td>\n",
       "      <td>BLOODY STREAM</td>\n",
       "      <td>Coda</td>\n",
       "      <td>2xcKG6XtsW4NV5zMXWuL6n</td>\n",
       "      <td>2013-01-30</td>\n",
       "      <td>single</td>\n",
       "      <td>['AD', 'AE', 'AR', 'AT', 'AU', 'BE', 'BG', 'BH...</td>\n",
       "      <td>261920</td>\n",
       "      <td>69</td>\n",
       "      <td>...</td>\n",
       "      <td>0.00860</td>\n",
       "      <td>0.274</td>\n",
       "      <td>0.9030</td>\n",
       "      <td>0.00000</td>\n",
       "      <td>0.3150</td>\n",
       "      <td>-3.125</td>\n",
       "      <td>0.0640</td>\n",
       "      <td>0.662</td>\n",
       "      <td>129.999</td>\n",
       "      <td>4</td>\n",
       "    </tr>\n",
       "    <tr>\n",
       "      <th>3</th>\n",
       "      <td>3</td>\n",
       "      <td>The Voice</td>\n",
       "      <td>The Voice</td>\n",
       "      <td>Lil Durk</td>\n",
       "      <td>3hcs9uc56yIGFCSy9leWe7</td>\n",
       "      <td>2020-09-04</td>\n",
       "      <td>single</td>\n",
       "      <td>['AD', 'AE', 'AL', 'AR', 'AT', 'AU', 'BA', 'BE...</td>\n",
       "      <td>179724</td>\n",
       "      <td>69</td>\n",
       "      <td>...</td>\n",
       "      <td>0.02590</td>\n",
       "      <td>0.534</td>\n",
       "      <td>0.8190</td>\n",
       "      <td>0.00000</td>\n",
       "      <td>0.1240</td>\n",
       "      <td>-2.099</td>\n",
       "      <td>0.1020</td>\n",
       "      <td>0.129</td>\n",
       "      <td>116.632</td>\n",
       "      <td>5</td>\n",
       "    </tr>\n",
       "    <tr>\n",
       "      <th>4</th>\n",
       "      <td>4</td>\n",
       "      <td>Belle Belle</td>\n",
       "      <td>Belle Belle</td>\n",
       "      <td>Fran Zcordion</td>\n",
       "      <td>2Vvs6Uyt1O7vpcT7ljgfL6</td>\n",
       "      <td>2020-06-30</td>\n",
       "      <td>single</td>\n",
       "      <td>['AD', 'AE', 'AL', 'AR', 'AT', 'AU', 'BA', 'BE...</td>\n",
       "      <td>137848</td>\n",
       "      <td>47</td>\n",
       "      <td>...</td>\n",
       "      <td>0.00755</td>\n",
       "      <td>0.624</td>\n",
       "      <td>0.6680</td>\n",
       "      <td>0.56000</td>\n",
       "      <td>0.1860</td>\n",
       "      <td>-10.245</td>\n",
       "      <td>0.0325</td>\n",
       "      <td>0.717</td>\n",
       "      <td>139.992</td>\n",
       "      <td>4</td>\n",
       "    </tr>\n",
       "  </tbody>\n",
       "</table>\n",
       "<p>5 rows × 23 columns</p>\n",
       "</div>"
      ],
      "text/plain": [
       "   Unnamed: 0           name     album_name     artist_name  \\\n",
       "0           0         Guarda      Zéphyrine  Elliot Ziegler   \n",
       "1           1          Habit         Xxotic         Why Cue   \n",
       "2           2  BLOODY STREAM  BLOODY STREAM            Coda   \n",
       "3           3      The Voice      The Voice        Lil Durk   \n",
       "4           4    Belle Belle    Belle Belle   Fran Zcordion   \n",
       "\n",
       "                artist_id album_release_date album_type  \\\n",
       "0  0Wh30jSV0ZQf0IzHkEddBY         2019-05-25     single   \n",
       "1  5PLUeP0AXBzIb4yrN7rQh6         2019-01-11      album   \n",
       "2  2xcKG6XtsW4NV5zMXWuL6n         2013-01-30     single   \n",
       "3  3hcs9uc56yIGFCSy9leWe7         2020-09-04     single   \n",
       "4  2Vvs6Uyt1O7vpcT7ljgfL6         2020-06-30     single   \n",
       "\n",
       "                                   available_markets  length  popularity  ...  \\\n",
       "0  ['AD', 'AE', 'AL', 'AR', 'AT', 'AU', 'BA', 'BE...   98750          59  ...   \n",
       "1  ['AD', 'AE', 'AL', 'AR', 'AT', 'AU', 'BA', 'BE...  161045          45  ...   \n",
       "2  ['AD', 'AE', 'AR', 'AT', 'AU', 'BE', 'BG', 'BH...  261920          69  ...   \n",
       "3  ['AD', 'AE', 'AL', 'AR', 'AT', 'AU', 'BA', 'BE...  179724          69  ...   \n",
       "4  ['AD', 'AE', 'AL', 'AR', 'AT', 'AU', 'BA', 'BE...  137848          47  ...   \n",
       "\n",
       "  acousticness  danceability  energy  instrumentalness  liveness  loudness  \\\n",
       "0      0.99400         0.334  0.0471           0.96600    0.1070   -23.170   \n",
       "1      0.06680         0.803  0.8190           0.00177    0.0889    -7.094   \n",
       "2      0.00860         0.274  0.9030           0.00000    0.3150    -3.125   \n",
       "3      0.02590         0.534  0.8190           0.00000    0.1240    -2.099   \n",
       "4      0.00755         0.624  0.6680           0.56000    0.1860   -10.245   \n",
       "\n",
       "   speechiness  valence    tempo  time_signature  \n",
       "0       0.0496    0.313  136.455               4  \n",
       "1       0.0504    0.344  125.012               4  \n",
       "2       0.0640    0.662  129.999               4  \n",
       "3       0.1020    0.129  116.632               5  \n",
       "4       0.0325    0.717  139.992               4  \n",
       "\n",
       "[5 rows x 23 columns]"
      ]
     },
     "execution_count": 132,
     "metadata": {},
     "output_type": "execute_result"
    }
   ],
   "source": [
    "whole_dataset.head()\n",
    "# whole_dataset = whole_dataset.drop(\"Unnamed:0\")\n"
   ]
  },
  {
   "cell_type": "code",
   "execution_count": 133,
   "metadata": {},
   "outputs": [],
   "source": [
    "# df.loc[:, ~df.columns.str.match('Unnamed')]\n",
    "whole_dataset = whole_dataset.loc[:, ~whole_dataset.columns.str.match('Unnamed')]"
   ]
  },
  {
   "cell_type": "code",
   "execution_count": 134,
   "metadata": {},
   "outputs": [
    {
     "name": "stdout",
     "output_type": "stream",
     "text": [
      "18753\n"
     ]
    }
   ],
   "source": [
    "whole_dataset.head()\n",
    "print(len(whole_dataset))"
   ]
  },
  {
   "cell_type": "code",
   "execution_count": 135,
   "metadata": {},
   "outputs": [],
   "source": [
    "def detect_outliers(df, features):\n",
    "    outlier_indices = []\n",
    "\n",
    "    for c in features:\n",
    "        # 1st quartile\n",
    "        Q1 = np.percentile(df[c], 25)\n",
    "        # 3rd quartile\n",
    "        Q3 = np.percentile(df[c], 75)\n",
    "        # IQR\n",
    "        IQR = Q3 - Q1\n",
    "        # Outlier step\n",
    "        outlier_step = IQR * 1.5\n",
    "        # detect outlier and their indeces\n",
    "        outlier_list_col = df[(df[c] < Q1 - outlier_step)\n",
    "                              | (df[c] > Q3 + outlier_step)].index  # filtre\n",
    "        # store indeces\n",
    "        # The extend() extends the list by adding all items of a list (passed as an argument) to the end.\n",
    "        outlier_indices.extend(outlier_list_col)\n",
    "\n",
    "    outlier_indices = Counter(outlier_indices)\n",
    "    multiple_outliers = list(i for i, v in outlier_indices.items() if v > 2)\n",
    "\n",
    "    return multiple_outliers\n",
    "\n"
   ]
  },
  {
   "cell_type": "code",
   "execution_count": 136,
   "metadata": {},
   "outputs": [
    {
     "name": "stdout",
     "output_type": "stream",
     "text": [
      "1943\n"
     ]
    }
   ],
   "source": [
    "outlier_features = [\"popularity\",\"length\",\"danceability\",\"energy\",\"instrumentalness\",\"liveness\",\"loudness\",\"speechiness\",\"valence\"]\n",
    "whole_dataset.loc[detect_outliers(whole_dataset,outlier_features)]\n",
    "print(len(whole_dataset.loc[detect_outliers(whole_dataset,outlier_features)]))"
   ]
  },
  {
   "cell_type": "code",
   "execution_count": 137,
   "metadata": {},
   "outputs": [],
   "source": [
    "# whole_dataset = whole_dataset.drop(detect_outliers(whole_dataset, outlier_features),axis = 0).reset_index(drop = True)"
   ]
  },
  {
   "cell_type": "code",
   "execution_count": 138,
   "metadata": {},
   "outputs": [
    {
     "name": "stdout",
     "output_type": "stream",
     "text": [
      "18753\n"
     ]
    }
   ],
   "source": [
    "print(len(whole_dataset))"
   ]
  },
  {
   "cell_type": "code",
   "execution_count": 139,
   "metadata": {},
   "outputs": [
    {
     "name": "stdout",
     "output_type": "stream",
     "text": [
      "1    14518\n",
      "0     4235\n",
      "Name: thresholded_popularity, dtype: int64\n"
     ]
    }
   ],
   "source": [
    "# threshold = whole_dataset[\"popularity\"].quantile(0.70)\n",
    "\n",
    "# df[df.a < df.a.quantile(.95)]\n",
    "\n",
    "# threshold_df = whole_dataset.nlargest(int(len(whole_dataset.index)*0.60),'popularity')\n",
    "\n",
    "\n",
    "# print(threshold_df.head())\n",
    "\n",
    "# print(len(threshold_df))\n",
    "\n",
    "# threshold = np.mean(threshold_df.popularity)\n",
    "# print(f\"type of threshold {type(threshold)}\")\n",
    "whole_dataset[\"thresholded_popularity\"]= [ 1 if i>=50 else 0 for i in whole_dataset.popularity ]\n",
    "whole_dataset[\"thresholded_popularity\"].value_counts()\n",
    "# threshold=80\n",
    "# print(f\"threshold {threshold}\")\n",
    "# whole_dataset.loc[whole_dataset['popularity'] < threshold, 'thresholded_popularity'] = 0\n",
    "# whole_dataset.loc[whole_dataset['popularity']\n",
    "#                   >= threshold, 'thresholded_popularity'] = 1\n",
    "print(whole_dataset.thresholded_popularity.value_counts())"
   ]
  },
  {
   "cell_type": "code",
   "execution_count": null,
   "metadata": {},
   "outputs": [],
   "source": []
  },
  {
   "cell_type": "code",
   "execution_count": 140,
   "metadata": {},
   "outputs": [],
   "source": [
    "def change_type(var):\n",
    "    whole_dataset[var] = whole_dataset[var].astype(int)"
   ]
  },
  {
   "cell_type": "code",
   "execution_count": 141,
   "metadata": {},
   "outputs": [],
   "source": [
    "column= [\"key\",\"length\",\"mode\"]\n",
    "for i in column:\n",
    "    change_type(i)\n",
    "\n"
   ]
  },
  {
   "cell_type": "code",
   "execution_count": 142,
   "metadata": {},
   "outputs": [
    {
     "name": "stdout",
     "output_type": "stream",
     "text": [
      "<class 'pandas.core.frame.DataFrame'>\n",
      "Int64Index: 15002 entries, 2559 to 15795\n",
      "Data columns (total 13 columns):\n",
      " #   Column            Non-Null Count  Dtype  \n",
      "---  ------            --------------  -----  \n",
      " 0   acousticness      15002 non-null  float64\n",
      " 1   danceability      15002 non-null  float64\n",
      " 2   energy            15002 non-null  float64\n",
      " 3   instrumentalness  15002 non-null  float64\n",
      " 4   key               15002 non-null  float64\n",
      " 5   liveness          15002 non-null  float64\n",
      " 6   mode              15002 non-null  float64\n",
      " 7   loudness          15002 non-null  float64\n",
      " 8   speechiness       15002 non-null  float64\n",
      " 9   tempo             15002 non-null  float64\n",
      " 10  valence           15002 non-null  float64\n",
      " 11  length            15002 non-null  float64\n",
      " 12  time_signature    15002 non-null  float64\n",
      "dtypes: float64(13)\n",
      "memory usage: 1.6 MB\n"
     ]
    }
   ],
   "source": [
    "x,y = whole_dataset[features] , whole_dataset.loc[:,'thresholded_popularity']\n",
    "# x = (x - np.min(x))/(np.max(x)-np.min(x)).values\n",
    "x_train, x_test, y_train, y_test = train_test_split(x, y, test_size = 0.2, random_state=42)\n",
    "y=y.astype(int)\n",
    "y_train= y_train.astype(int)\n",
    "y_test= y_test.astype(int)\n",
    "x_train.info()"
   ]
  },
  {
   "cell_type": "code",
   "execution_count": 143,
   "metadata": {},
   "outputs": [
    {
     "data": {
      "text/plain": [
       "name                      0\n",
       "album_name                0\n",
       "artist_name               0\n",
       "artist_id                 0\n",
       "album_release_date        0\n",
       "album_type                0\n",
       "available_markets         0\n",
       "length                    0\n",
       "popularity                0\n",
       "trackid                   0\n",
       "mode                      0\n",
       "key                       0\n",
       "acousticness              0\n",
       "danceability              0\n",
       "energy                    0\n",
       "instrumentalness          0\n",
       "liveness                  0\n",
       "loudness                  0\n",
       "speechiness               0\n",
       "valence                   0\n",
       "tempo                     0\n",
       "time_signature            0\n",
       "thresholded_popularity    0\n",
       "dtype: int64"
      ]
     },
     "execution_count": 143,
     "metadata": {},
     "output_type": "execute_result"
    }
   ],
   "source": [
    "whole_dataset.columns[whole_dataset.isnull().any()]\n",
    "\n",
    "# song_data.columns[song_data.isnull().any()]\n",
    "whole_dataset.isnull().sum()\n",
    "\n"
   ]
  },
  {
   "cell_type": "code",
   "execution_count": 144,
   "metadata": {},
   "outputs": [
    {
     "name": "stdout",
     "output_type": "stream",
     "text": [
      "Train ccuracy of random forest 0.9964671377149713\n",
      "Test accuracy of random forest 0.8944281524926686\n"
     ]
    }
   ],
   "source": [
    "from sklearn.ensemble import RandomForestClassifier\n",
    "rf=RandomForestClassifier(n_estimators=150,random_state = 3)\n",
    "rf.fit(x_train,y_train)\n",
    "print(\"Train ccuracy of random forest\",rf.score(x_train,y_train))\n",
    "print(\"Test accuracy of random forest\",rf.score(x_test,y_test))\n",
    "RandomForestClassifier_score=rf.score(x_test,y_test)\n",
    "y_pred=rf.predict(x_test)\n",
    "t_true=y_test"
   ]
  },
  {
   "cell_type": "code",
   "execution_count": 145,
   "metadata": {},
   "outputs": [
    {
     "name": "stdout",
     "output_type": "stream",
     "text": [
      "Confusion matrix: \n",
      " [[ 516  317]\n",
      " [  79 2839]]\n"
     ]
    }
   ],
   "source": [
    "cm = confusion_matrix(y_test, y_pred)\n",
    "print('Confusion matrix: \\n', cm)"
   ]
  },
  {
   "cell_type": "code",
   "execution_count": 146,
   "metadata": {},
   "outputs": [
    {
     "name": "stdout",
     "output_type": "stream",
     "text": [
      "Classification report: \n",
      "               precision    recall  f1-score   support\n",
      "\n",
      "           0       0.87      0.62      0.72       833\n",
      "           1       0.90      0.97      0.93      2918\n",
      "\n",
      "    accuracy                           0.89      3751\n",
      "   macro avg       0.88      0.80      0.83      3751\n",
      "weighted avg       0.89      0.89      0.89      3751\n",
      "\n"
     ]
    }
   ],
   "source": [
    "cr = classification_report(y_test, y_pred,output_dict=False)\n",
    "print('Classification report: \\n',cr\n",
    "        )"
   ]
  },
  {
   "cell_type": "code",
   "execution_count": 147,
   "metadata": {},
   "outputs": [
    {
     "ename": "TypeError",
     "evalue": "'str' object does not support item deletion",
     "output_type": "error",
     "traceback": [
      "\u001b[1;31m---------------------------------------------------------------------------\u001b[0m",
      "\u001b[1;31mTypeError\u001b[0m                                 Traceback (most recent call last)",
      "\u001b[1;32m<ipython-input-147-f518e638307c>\u001b[0m in \u001b[0;36m<module>\u001b[1;34m\u001b[0m\n\u001b[0;32m      1\u001b[0m \u001b[1;31m# print(type(cr))\u001b[0m\u001b[1;33m\u001b[0m\u001b[1;33m\u001b[0m\u001b[1;33m\u001b[0m\u001b[0m\n\u001b[1;32m----> 2\u001b[1;33m \u001b[1;32mdel\u001b[0m\u001b[1;33m(\u001b[0m\u001b[0mcr\u001b[0m\u001b[1;33m[\u001b[0m\u001b[1;34m\"accuracy\"\u001b[0m\u001b[1;33m]\u001b[0m\u001b[1;33m)\u001b[0m\u001b[1;33m\u001b[0m\u001b[1;33m\u001b[0m\u001b[0m\n\u001b[0m\u001b[0;32m      3\u001b[0m \u001b[0msum\u001b[0m \u001b[1;33m=\u001b[0m \u001b[1;36m0\u001b[0m\u001b[1;33m\u001b[0m\u001b[1;33m\u001b[0m\u001b[0m\n\u001b[0;32m      4\u001b[0m \u001b[0mi\u001b[0m\u001b[1;33m=\u001b[0m\u001b[1;36m0\u001b[0m\u001b[1;33m\u001b[0m\u001b[1;33m\u001b[0m\u001b[0m\n\u001b[0;32m      5\u001b[0m \u001b[1;32mfor\u001b[0m \u001b[0mkey\u001b[0m\u001b[1;33m,\u001b[0m\u001b[0mvalue\u001b[0m \u001b[1;32min\u001b[0m \u001b[0mcr\u001b[0m\u001b[1;33m.\u001b[0m\u001b[0mitems\u001b[0m\u001b[1;33m(\u001b[0m\u001b[1;33m)\u001b[0m\u001b[1;33m:\u001b[0m\u001b[1;33m\u001b[0m\u001b[1;33m\u001b[0m\u001b[0m\n",
      "\u001b[1;31mTypeError\u001b[0m: 'str' object does not support item deletion"
     ]
    }
   ],
   "source": [
    "# print(type(cr))\n",
    "del(cr[\"accuracy\"])\n",
    "sum = 0\n",
    "i=0\n",
    "for key,value in cr.items():\n",
    "    if i==2:\n",
    "        break\n",
    "    sum+=value[\"precision\"]\n",
    "    i+=1\n",
    "# print(sum)"
   ]
  }
 ],
 "metadata": {
  "kernelspec": {
   "display_name": "Python 3",
   "language": "python",
   "name": "python3"
  },
  "language_info": {
   "codemirror_mode": {
    "name": "ipython",
    "version": 3
   },
   "file_extension": ".py",
   "mimetype": "text/x-python",
   "name": "python",
   "nbconvert_exporter": "python",
   "pygments_lexer": "ipython3",
   "version": "3.6.8"
  }
 },
 "nbformat": 4,
 "nbformat_minor": 4
}
